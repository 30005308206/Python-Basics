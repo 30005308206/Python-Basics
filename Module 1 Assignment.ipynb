{
  "nbformat": 4,
  "nbformat_minor": 0,
  "metadata": {
    "colab": {
      "provenance": []
    },
    "kernelspec": {
      "name": "python3",
      "display_name": "Python 3"
    },
    "language_info": {
      "name": "python"
    }
  },
  "cells": [
    {
      "cell_type": "markdown",
      "source": [
        "1. What is Python, and why is it popular?\n",
        "\n",
        " Answer:\n",
        "Python is a high-level, interpreted, and general-purpose programming language known for its simplicity and readability. It is popular due to its vast libraries, dynamic typing, easy syntax, and strong community support. Python is widely used in web development, data science, AI, and automation, making it versatile and beginner-friendly.\n",
        "\n",
        "2. What is an interpreter in Python?\n",
        "\n",
        " Answer:\n",
        "An interpreter in Python is a program that executes Python code line by line. It translates high-level Python code into machine code at runtime, enabling immediate execution of code without needing prior compilation.\n",
        "\n",
        "3. What are pre-defined keywords in Python?\n",
        "\n",
        " Answer:\n",
        "Pre-defined keywords in Python are reserved words with special meanings and functionalities. Examples include if, else, while, for, def, class, try, and except. These cannot be used as identifiers or variable names.\n",
        "\n",
        "4. Can keywords be used as variable names?\n",
        "\n",
        " Answer:\n",
        "No, keywords cannot be used as variable names in Python. They are reserved for specific syntactical purposes and attempting to use them as variable names will result in a syntax error.\n",
        "\n",
        "5. What is mutability in Python?\n",
        "\n",
        " Answer:\n",
        "Mutability in Python refers to the ability of an object to be modified after its creation. Mutable objects, like lists and dictionaries, allow changes, while immutable objects, like strings and tuples, do not.\n",
        "\n",
        "6. Why are lists mutable, but tuples are immutable?\n",
        "\n",
        " Answer:\n",
        "Lists are mutable to allow flexibility and changes to their content, which is useful for dynamic data manipulation. Tuples are immutable to ensure consistency and to use less memory, making them suitable for fixed data sets.\n",
        "\n",
        "7. What is the difference between == and is operators in Python?\n",
        "\n",
        " Answer:\n",
        "\n",
        " == checks for value equality, i.e., whether two objects have the same value.\n",
        "is checks for identity equality, i.e., whether two objects reference the same memory location.\n",
        "8. What are logical operators in Python?\n",
        "\n",
        " Answer:\n",
        "Logical operators in Python are used to combine conditional statements. They include:\n",
        "\n",
        " and: Returns True if both conditions are true.\n",
        "or: Returns True if at least one condition is true.\n",
        "not: Reverses the result of a condition.\n",
        "9. What is type casting in Python?\n",
        "\n",
        " Answer:\n",
        "Type casting in Python is the process of converting a variable from one data type to another. It can be done explicitly (e.g., using int(), float(), or str()) or implicitly by Python during certain operations.\n",
        "\n",
        "10. What is the difference between implicit and explicit type casting?\n",
        "\n",
        " Answer:\n",
        "\n",
        " Implicit Type Casting: Automatically performed by Python, converting data types without user intervention (e.g., int to float during arithmetic operations).\n",
        "Explicit Type Casting: Manually performed by the programmer using functions like int(), str(), or float().\n",
        "11. What is the purpose of conditional statements in Python?\n",
        "\n",
        " Answer:\n",
        "Conditional statements in Python, such as if, elif, and else, allow the execution of code based on specific conditions. They enable decision-making and control the flow of a program.\n",
        "\n",
        "12. How does the elif statement work?\n",
        "\n",
        " Answer:\n",
        "The elif statement stands for \"else if\" and is used to check multiple conditions after an initial if condition. It executes the block of code associated with the first elif condition that evaluates to True, skipping the rest.\n",
        "\n",
        "13. What is the difference between for and while loops?\n",
        "\n",
        " Answer:\n",
        "\n",
        " For Loop: Iterates over a sequence (like a list, range, or string) for a predefined number of times.\n",
        "While Loop: Repeats a block of code as long as a given condition remains True, allowing for dynamic repetition based on runtime conditions.\n",
        "14. Describe a scenario where a while loop is more suitable than a for loop.\n",
        "\n",
        " Answer:\n",
        "A while loop is more suitable in scenarios where the number of iterations is not known beforehand. For example, reading user input until they enter a specific keyword (e.g., exit) is better suited for a while loop since the loop continues until a condition is met."
      ],
      "metadata": {
        "id": "Bh9Sn7k0PXJo"
      }
    },
    {
      "cell_type": "markdown",
      "source": [
        "                                                                  \n",
        "                                                                   \n",
        "                                                                    \n",
        "                                                                     \n",
        "                                                                      \n",
        "                                                                       \n",
        "                                                                        \n",
        "                                                                         \n",
        "                                                                          \n",
        "                                                                               PRACTICAL QUESTIONS"
      ],
      "metadata": {
        "id": "O0KUZ35l3MFJ"
      }
    },
    {
      "cell_type": "markdown",
      "source": [
        "1. Write a Python program to print \"Hello, World!\""
      ],
      "metadata": {
        "id": "RkAzL5GBa6by"
      }
    },
    {
      "cell_type": "code",
      "source": [
        "print(\"Hello, World!\")\n"
      ],
      "metadata": {
        "colab": {
          "base_uri": "https://localhost:8080/"
        },
        "id": "q9WBILwQa_Ti",
        "outputId": "21b846c6-3d72-44c9-ad7a-5267d84d1a1d"
      },
      "execution_count": null,
      "outputs": [
        {
          "output_type": "stream",
          "name": "stdout",
          "text": [
            "Hello, World!\n"
          ]
        }
      ]
    },
    {
      "cell_type": "markdown",
      "source": [
        "2. Write a Python program that displays your name and age."
      ],
      "metadata": {
        "id": "h-pyIk0Ncupc"
      }
    },
    {
      "cell_type": "code",
      "source": [
        "name = \"Anoop Singh\"\n",
        "age = 21\n",
        "print(f\"My name is {name} and I am {age} years old.\")"
      ],
      "metadata": {
        "colab": {
          "base_uri": "https://localhost:8080/"
        },
        "id": "tY5jEMzRtb7H",
        "outputId": "7104273a-5b66-4222-ce84-786988491297"
      },
      "execution_count": 1,
      "outputs": [
        {
          "output_type": "stream",
          "name": "stdout",
          "text": [
            "My name is Anoop Singh and I am 21 years old.\n"
          ]
        }
      ]
    },
    {
      "cell_type": "markdown",
      "source": [
        "3. Write code to print all the pre-defined keywords in Python using the keyword library.\n",
        "\n"
      ],
      "metadata": {
        "id": "yU9CIMsEthNi"
      }
    },
    {
      "cell_type": "code",
      "source": [
        "import keyword\n",
        "print(\"Python Keywords:\", keyword.kwlist)"
      ],
      "metadata": {
        "colab": {
          "base_uri": "https://localhost:8080/"
        },
        "id": "biXtriG8trz3",
        "outputId": "11fbd90c-f0c8-4a62-805e-2c729322efa1"
      },
      "execution_count": 2,
      "outputs": [
        {
          "output_type": "stream",
          "name": "stdout",
          "text": [
            "Python Keywords: ['False', 'None', 'True', 'and', 'as', 'assert', 'async', 'await', 'break', 'class', 'continue', 'def', 'del', 'elif', 'else', 'except', 'finally', 'for', 'from', 'global', 'if', 'import', 'in', 'is', 'lambda', 'nonlocal', 'not', 'or', 'pass', 'raise', 'return', 'try', 'while', 'with', 'yield']\n"
          ]
        }
      ]
    },
    {
      "cell_type": "markdown",
      "source": [
        "4. Write a program that checks if a given word is a Python"
      ],
      "metadata": {
        "id": "v1jT-EPBud4i"
      }
    },
    {
      "cell_type": "code",
      "source": [
        "import keyword\n",
        "\n",
        "word = input(\"Enter a word: \")\n",
        "if keyword.iskeyword(word):\n",
        "    print(f\"{word} is a Python keyword.\")\n",
        "else:\n",
        "    print(f\"{word} is not a Python keyword.\")"
      ],
      "metadata": {
        "colab": {
          "base_uri": "https://localhost:8080/"
        },
        "id": "kZUZvVEGuiKl",
        "outputId": "d7f3df1f-38be-4a4e-cbf2-3ab9c7e5295b"
      },
      "execution_count": 4,
      "outputs": [
        {
          "output_type": "stream",
          "name": "stdout",
          "text": [
            "Enter a word: for\n",
            "for is a Python keyword.\n"
          ]
        }
      ]
    },
    {
      "cell_type": "markdown",
      "source": [
        "5. Create a list and tuple in Python, and demonstrate how attempting to change an element works differently for each."
      ],
      "metadata": {
        "id": "h59GPv55u1wn"
      }
    },
    {
      "cell_type": "code",
      "source": [
        "# List: Mutable\n",
        "my_list = [1, 2, 3]\n",
        "my_list[0] = 10\n",
        "print(\"Modified List:\", my_list)\n",
        "\n",
        "# Tuple: Immutable\n",
        "my_tuple = (1, 2, 3)\n",
        "try:\n",
        "    my_tuple[0] = 10\n",
        "except TypeError as e:\n",
        "    print(\"Error modifying tuple:\", e)"
      ],
      "metadata": {
        "colab": {
          "base_uri": "https://localhost:8080/"
        },
        "id": "Gc6TAH1Au7u-",
        "outputId": "a9c88a48-6399-4ef9-f506-dc485f4c04a8"
      },
      "execution_count": 5,
      "outputs": [
        {
          "output_type": "stream",
          "name": "stdout",
          "text": [
            "Modified List: [10, 2, 3]\n",
            "Error modifying tuple: 'tuple' object does not support item assignment\n"
          ]
        }
      ]
    },
    {
      "cell_type": "markdown",
      "source": [
        "6. Write a function to demonstrate the behavior of mutable and immutable arguments."
      ],
      "metadata": {
        "id": "mD3sFkVLvJv-"
      }
    },
    {
      "cell_type": "code",
      "source": [
        "def demonstrate_mutable(arg_list):\n",
        "    arg_list.append(4)\n",
        "    print(\"Inside function (mutable):\", arg_list)\n",
        "\n",
        "def demonstrate_immutable(arg_num):\n",
        "    arg_num += 10\n",
        "    print(\"Inside function (immutable):\", arg_num)\n",
        "\n",
        "# Mutable example\n",
        "mutable_list = [1, 2, 3]\n",
        "demonstrate_mutable(mutable_list)\n",
        "print(\"Outside function (mutable):\", mutable_list)\n",
        "\n",
        "# Immutable example\n",
        "immutable_num = 10\n",
        "demonstrate_immutable(immutable_num)\n",
        "print(\"Outside function (immutable):\", immutable_num)\n"
      ],
      "metadata": {
        "colab": {
          "base_uri": "https://localhost:8080/"
        },
        "id": "E2xwrQqJvP_-",
        "outputId": "50af8c5a-67cc-4dd9-b928-4548ed25216e"
      },
      "execution_count": 6,
      "outputs": [
        {
          "output_type": "stream",
          "name": "stdout",
          "text": [
            "Inside function (mutable): [1, 2, 3, 4]\n",
            "Outside function (mutable): [1, 2, 3, 4]\n",
            "Inside function (immutable): 20\n",
            "Outside function (immutable): 10\n"
          ]
        }
      ]
    },
    {
      "cell_type": "markdown",
      "source": [
        "7. Write a program to demonstrate the use of logical operators."
      ],
      "metadata": {
        "id": "E7PNVs-xwH6R"
      }
    },
    {
      "cell_type": "code",
      "source": [
        "a = 10\n",
        "b = 20\n",
        "print(\"Logical AND:\", a > 5 and b > 15)\n",
        "print(\"Logical OR:\", a > 15 or b > 15)\n",
        "print(\"Logical NOT:\", not (a > 15))\n"
      ],
      "metadata": {
        "colab": {
          "base_uri": "https://localhost:8080/"
        },
        "id": "oFFEptSUwJdp",
        "outputId": "27017efc-4216-48b3-fbe0-f2f70e757e99"
      },
      "execution_count": 7,
      "outputs": [
        {
          "output_type": "stream",
          "name": "stdout",
          "text": [
            "Logical AND: True\n",
            "Logical OR: True\n",
            "Logical NOT: True\n"
          ]
        }
      ]
    },
    {
      "cell_type": "markdown",
      "source": [
        "8. Write a Python program to convert user input from string to integer, float, and boolean types."
      ],
      "metadata": {
        "id": "-FD8KU30wok1"
      }
    },
    {
      "cell_type": "code",
      "source": [
        "user_input = input(\"Enter a value: \")\n",
        "\n",
        "try:\n",
        "    # Attempt to convert the input to an integer\n",
        "    integer_value = int(user_input)\n",
        "    print(\"Integer:\", integer_value)\n",
        "except ValueError:\n",
        "    print(\"Error: The input cannot be converted to an integer.\")\n",
        "\n",
        "try:\n",
        "    # Attempt to convert the input to a float\n",
        "    float_value = float(user_input)\n",
        "    print(\"Float:\", float_value)\n",
        "except ValueError:\n",
        "    print(\"Error: The input cannot be converted to a float.\")\n",
        "\n",
        "# Convert to boolean (no ValueError for bool conversion)\n",
        "boolean_value = bool(user_input)\n",
        "print(\"Boolean:\", boolean_value)\n"
      ],
      "metadata": {
        "colab": {
          "base_uri": "https://localhost:8080/"
        },
        "id": "etdy01iA0x5q",
        "outputId": "c40f8947-8d70-4d22-9db4-1d178f6169b7"
      },
      "execution_count": 13,
      "outputs": [
        {
          "output_type": "stream",
          "name": "stdout",
          "text": [
            "Enter a value: dfhgjh\n",
            "Error: The input cannot be converted to an integer.\n",
            "Error: The input cannot be converted to a float.\n",
            "Boolean: True\n"
          ]
        }
      ]
    },
    {
      "cell_type": "markdown",
      "source": [
        "9. Write code to demonstrate type casting with list elements."
      ],
      "metadata": {
        "id": "F8sRDzIH1Z2p"
      }
    },
    {
      "cell_type": "code",
      "source": [
        "string_list = [\"1\", \"2\", \"3\", \"4\"]\n",
        "integer_list = [int(x) for x in string_list]\n",
        "print(\"Original List (Strings):\", string_list)\n",
        "print(\"Converted List (Integers):\", integer_list)\n"
      ],
      "metadata": {
        "colab": {
          "base_uri": "https://localhost:8080/"
        },
        "id": "GQaKUGnd1hFW",
        "outputId": "4fbc4919-491b-4251-c853-851849e9df02"
      },
      "execution_count": 14,
      "outputs": [
        {
          "output_type": "stream",
          "name": "stdout",
          "text": [
            "Original List (Strings): ['1', '2', '3', '4']\n",
            "Converted List (Integers): [1, 2, 3, 4]\n"
          ]
        }
      ]
    },
    {
      "cell_type": "markdown",
      "source": [
        "10. Write a program that checks if a number is positive."
      ],
      "metadata": {
        "id": "lwWisn851kZC"
      }
    },
    {
      "cell_type": "code",
      "source": [
        "number = float(input(\"Enter a number: \"))\n",
        "\n",
        "if number > 0:\n",
        "    print(\"The number is positive.\")\n",
        "elif number < 0:\n",
        "    print(\"The number is negative.\")\n",
        "else:\n",
        "    print(\"The number is zero.\")"
      ],
      "metadata": {
        "colab": {
          "base_uri": "https://localhost:8080/"
        },
        "id": "pkbPT2bZ1yu_",
        "outputId": "c1bfcdcf-b232-47c1-dcbb-dfcff431ead9"
      },
      "execution_count": 17,
      "outputs": [
        {
          "output_type": "stream",
          "name": "stdout",
          "text": [
            "Enter a number: 8\n",
            "The number is positive.\n"
          ]
        }
      ]
    },
    {
      "cell_type": "markdown",
      "source": [
        "11. Write a for loop to print numbers from 1 to 100.\n",
        "python.\n"
      ],
      "metadata": {
        "id": "7d8h4dQv19kf"
      }
    },
    {
      "cell_type": "code",
      "source": [
        "for i in range(1, 101):\n",
        "    print(i, end=\" \")\n"
      ],
      "metadata": {
        "colab": {
          "base_uri": "https://localhost:8080/"
        },
        "id": "X845moYO2HRW",
        "outputId": "eccd3bbe-bcfb-44ff-d856-792206079850"
      },
      "execution_count": 18,
      "outputs": [
        {
          "output_type": "stream",
          "name": "stdout",
          "text": [
            "1 2 3 4 5 6 7 8 9 10 11 12 13 14 15 16 17 18 19 20 21 22 23 24 25 26 27 28 29 30 31 32 33 34 35 36 37 38 39 40 41 42 43 44 45 46 47 48 49 50 51 52 53 54 55 56 57 58 59 60 61 62 63 64 65 66 67 68 69 70 71 72 73 74 75 76 77 78 79 80 81 82 83 84 85 86 87 88 89 90 91 92 93 94 95 96 97 98 99 100 "
          ]
        }
      ]
    },
    {
      "cell_type": "markdown",
      "source": [
        "12. Write a Python program to find the sum of all even numbers between 1 and 500."
      ],
      "metadata": {
        "id": "qIzRfQws2OtD"
      }
    },
    {
      "cell_type": "code",
      "source": [
        "even_sum = sum(i for i in range(1, 501) if i % 2 == 0)\n",
        "print(\"Sum of even numbers between 1 and 500:\", even_sum)\n"
      ],
      "metadata": {
        "colab": {
          "base_uri": "https://localhost:8080/"
        },
        "id": "vttDOQU32Ty4",
        "outputId": "de391065-e760-48f3-e8c4-ce884a86250a"
      },
      "execution_count": 19,
      "outputs": [
        {
          "output_type": "stream",
          "name": "stdout",
          "text": [
            "Sum of even numbers between 1 and 500: 62750\n"
          ]
        }
      ]
    },
    {
      "cell_type": "markdown",
      "source": [
        "13. Write a program to reverse a string using a while loop."
      ],
      "metadata": {
        "id": "zdxIPGkZ2bXb"
      }
    },
    {
      "cell_type": "code",
      "source": [
        "text = input(\"Enter a string: \")\n",
        "reversed_text = \"\"\n",
        "index = len(text) - 1\n",
        "\n",
        "while index >= 0:\n",
        "    reversed_text += text[index]\n",
        "    index -= 1\n",
        "\n",
        "print(\"Reversed String:\", reversed_text)\n"
      ],
      "metadata": {
        "colab": {
          "base_uri": "https://localhost:8080/"
        },
        "id": "t-gj8jiz2sUR",
        "outputId": "a6cd0242-113a-46e7-a47d-76765aaecad2"
      },
      "execution_count": 20,
      "outputs": [
        {
          "output_type": "stream",
          "name": "stdout",
          "text": [
            "Enter a string: str\n",
            "Reversed String: rts\n"
          ]
        }
      ]
    },
    {
      "cell_type": "markdown",
      "source": [
        "14. Write a Python program to calculate the factorial of a number provided by the user using a while loop.\n",
        "\n"
      ],
      "metadata": {
        "id": "xUMTzZz-2y2D"
      }
    },
    {
      "cell_type": "code",
      "source": [
        "number = int(input(\"Enter a number: \"))\n",
        "factorial = 1\n",
        "i = 1\n",
        "\n",
        "while i <= number:\n",
        "    factorial *= i\n",
        "    i += 1\n",
        "\n",
        "print(f\"The factorial of {number} is {factorial}.\")"
      ],
      "metadata": {
        "colab": {
          "base_uri": "https://localhost:8080/"
        },
        "id": "QaSn5NR_26Tl",
        "outputId": "1b1145f0-99df-4a40-8e9e-f4de508baf2f"
      },
      "execution_count": 21,
      "outputs": [
        {
          "output_type": "stream",
          "name": "stdout",
          "text": [
            "Enter a number: 6\n",
            "The factorial of 6 is 720.\n"
          ]
        }
      ]
    }
  ]
}